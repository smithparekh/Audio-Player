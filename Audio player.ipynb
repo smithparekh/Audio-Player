{
 "cells": [
  {
   "cell_type": "code",
   "execution_count": 1,
   "metadata": {},
   "outputs": [
    {
     "name": "stdout",
     "output_type": "stream",
     "text": [
      "pygame 1.9.6\n",
      "Hello from the pygame community. https://www.pygame.org/contribute.html\n"
     ]
    }
   ],
   "source": [
    "import tkinter as tkr\n",
    "import pygame \n",
    "import os"
   ]
  },
  {
   "cell_type": "code",
   "execution_count": 2,
   "metadata": {},
   "outputs": [],
   "source": [
    "player=tkr.Tk()"
   ]
  },
  {
   "cell_type": "code",
   "execution_count": 3,
   "metadata": {},
   "outputs": [
    {
     "data": {
      "text/plain": [
       "''"
      ]
     },
     "execution_count": 3,
     "metadata": {},
     "output_type": "execute_result"
    }
   ],
   "source": [
    "player.title('Audio player')\n",
    "player.geometry('205x340')"
   ]
  },
  {
   "cell_type": "code",
   "execution_count": 4,
   "metadata": {},
   "outputs": [
    {
     "name": "stdout",
     "output_type": "stream",
     "text": [
      "<built-in function getcwd>\n"
     ]
    }
   ],
   "source": [
    "os.chdir(\"D:\\\\MUSIC\\\\one direction\\\\\")\n",
    "print(os.getcwd)\n",
    "songlist=os.listdir()"
   ]
  },
  {
   "cell_type": "code",
   "execution_count": 5,
   "metadata": {},
   "outputs": [],
   "source": [
    "volumelevel=tkr.Scale(player,from_=0.0,to_=1.0,orient=tkr.HORIZONTAL,resolution=0.1)"
   ]
  },
  {
   "cell_type": "code",
   "execution_count": 6,
   "metadata": {},
   "outputs": [
    {
     "name": "stdout",
     "output_type": "stream",
     "text": [
      "['02-1.mp3', '04 - Cmon Cmon_1459865524681.wma', '17 One Direction - Still the One_1458064846783.mp3', '33 On Our Way.mp3', 'AlbumArtSmall.jpg', 'AUD-20151018-WA0026_1445709878534_1446036086955.mp3', 'Drag%20Me%20Down%20-%20(128Kbps).mp3', 'Folder.jpg', 'One Direction - Best Song Ever(mp3id.wapka.mobi).mp3', 'One Direction - Kiss you [mp3clan.com]_1459877181770.mp3', 'One Direction - Live While Were Young (www.SongsLover.pk).mp3', 'One Direction - WHAT MAKES YOU BEAUTIFUL(www.krazywap.mobi).mp3', 'suzzuran.wapka.mobi_.mp3', 'You & I (Radio Edit) (598X).mp3']\n"
     ]
    }
   ],
   "source": [
    "playlist=tkr.Listbox(player,highlightcolor=\"blue\",selectmode=tkr.SINGLE)\n",
    "print(songlist)\n",
    "for item in songlist:\n",
    "    pos=0\n",
    "    playlist.insert(pos,item)\n",
    "    pos=pos + 1"
   ]
  },
  {
   "cell_type": "code",
   "execution_count": 7,
   "metadata": {},
   "outputs": [],
   "source": [
    "#pygame init\n",
    "\n",
    "pygame.init()\n",
    "pygame.mixer.init()"
   ]
  },
  {
   "cell_type": "code",
   "execution_count": 8,
   "metadata": {},
   "outputs": [],
   "source": [
    "#playplayer\n",
    "\n",
    "def play():\n",
    "    \n",
    "    pygame.mixer.music.load(playlist.get(tkr.ACTIVE))\n",
    "    var.set(playlist.get(tkr.ACTIVE))\n",
    "    pygame.mixer.music.play()\n",
    "    pygame.mixer.music.set_volume(volumelevel.get())\n",
    "    print(pygame.mixer.music.get_volume())\n",
    "    print(volumelevel.get())"
   ]
  },
  {
   "cell_type": "code",
   "execution_count": 9,
   "metadata": {},
   "outputs": [],
   "source": [
    "#exitplayer\n",
    "\n",
    "def Exitplayer():\n",
    "    pygame.mixer.music.stop()"
   ]
  },
  {
   "cell_type": "code",
   "execution_count": 10,
   "metadata": {},
   "outputs": [],
   "source": [
    "def Volumeup():\n",
    "    pygame.mixer.music.set_volume()"
   ]
  },
  {
   "cell_type": "code",
   "execution_count": 11,
   "metadata": {},
   "outputs": [],
   "source": [
    "def pause():\n",
    "    pygame.mixer.music.pause()"
   ]
  },
  {
   "cell_type": "code",
   "execution_count": 12,
   "metadata": {},
   "outputs": [],
   "source": [
    "def unpause():\n",
    "    pygame.mixer.music.unpause()"
   ]
  },
  {
   "cell_type": "code",
   "execution_count": 13,
   "metadata": {},
   "outputs": [],
   "source": [
    "#Buttons\n",
    "Button1=tkr.Button(player,width=5,height=3,text=\"PLAY\",command=play)\n",
    "Button2=tkr.Button(player,width=5,height=3,text=\"STOP\",command=Exitplayer)\n",
    "Button3=tkr.Button(player,width=5,height=3,text=\"PAUSE\",command=pause)\n",
    "Button4=tkr.Button(player,width=5,height=3,text=\"UNPAUSE\",command=unpause)"
   ]
  },
  {
   "cell_type": "code",
   "execution_count": 14,
   "metadata": {},
   "outputs": [],
   "source": [
    "var= tkr.StringVar()\n",
    "songtitle=tkr.Label(textvariable=var)"
   ]
  },
  {
   "cell_type": "code",
   "execution_count": 15,
   "metadata": {},
   "outputs": [],
   "source": [
    "#place widgets\n",
    "Button1.pack(fill='x')\n",
    "Button2.pack(fill='x')\n",
    "Button3.pack(fill='x')\n",
    "Button4.pack(fill='x')\n",
    "volumelevel.pack(fill='x')\n",
    "songtitle.pack()\n",
    "playlist.pack(fill='both',expand='yes')"
   ]
  },
  {
   "cell_type": "code",
   "execution_count": null,
   "metadata": {},
   "outputs": [],
   "source": [
    "player.mainloop()"
   ]
  },
  {
   "cell_type": "code",
   "execution_count": null,
   "metadata": {},
   "outputs": [],
   "source": []
  },
  {
   "cell_type": "code",
   "execution_count": null,
   "metadata": {},
   "outputs": [],
   "source": []
  },
  {
   "cell_type": "code",
   "execution_count": null,
   "metadata": {},
   "outputs": [],
   "source": []
  },
  {
   "cell_type": "code",
   "execution_count": null,
   "metadata": {},
   "outputs": [],
   "source": []
  }
 ],
 "metadata": {
  "kernelspec": {
   "display_name": "Python 3",
   "language": "python",
   "name": "python3"
  },
  "language_info": {
   "codemirror_mode": {
    "name": "ipython",
    "version": 3
   },
   "file_extension": ".py",
   "mimetype": "text/x-python",
   "name": "python",
   "nbconvert_exporter": "python",
   "pygments_lexer": "ipython3",
   "version": "3.7.6"
  }
 },
 "nbformat": 4,
 "nbformat_minor": 4
}
